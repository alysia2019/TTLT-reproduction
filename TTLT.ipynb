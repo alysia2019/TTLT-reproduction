{
 "cells": [
  {
   "cell_type": "code",
   "execution_count": 82,
   "metadata": {},
   "outputs": [],
   "source": [
    "## Import required packages\n",
    "import torch\n",
    "import random\n",
    "import numpy as np\n",
    "import pandas as pd\n",
    "import numpy as np\n",
    "import matplotlib.pyplot as plt\n",
    "from sklearn.preprocessing import OneHotEncoder\n",
    "from sklearn.preprocessing import LabelEncoder\n",
    "from sklearn.manifold import TSNE\n",
    "%matplotlib inline"
   ]
  },
  {
   "cell_type": "code",
   "execution_count": null,
   "metadata": {},
   "outputs": [],
   "source": [
    "# Check local GPU is running, uncomment and run if using a local GPU\n",
    "#torch.cuda.current_device()\n",
    "#torch.cuda.device(0)\n",
    "#torch.cuda.device_count()\n",
    "#torch.cuda.get_device_name(0)"
   ]
  },
  {
   "cell_type": "code",
   "execution_count": 351,
   "metadata": {},
   "outputs": [],
   "source": [
    "## We'll build a function to generate simulated reads.\n",
    "## Could've gone for specifying probabilities per base,\n",
    "## but as it's a field test we're keeping it simple.\n",
    "\n",
    "def random_dna_sequence(length):\n",
    "    return np.array(list(''.join(random.choice('ACTG') for _ in range(length))))\n",
    "\n",
    "# Function for generating n x m R matrix,\n",
    "# where n is the number of reads (total_reads)\n",
    "# and m is each read's length (read_length).\n",
    "\n",
    "def create_read_matrix(total_reads,read_length):\n",
    "    read_matrix = []\n",
    "    for i in range(total_reads):\n",
    "        read_matrix.append(random_dna_sequence(read_length))\n",
    "    return np.vstack(read_matrix)\n",
    "\n",
    "#Build a function that simultaneously generates unique, desired length k-mers \n",
    "##from a previously generated read_matrix\n",
    "\n",
    "def create_kmer_matrix(read_matrix,kmer_size):\n",
    "    kmer_matrix = []\n",
    "    for i in range(read_matrix.shape[0]):\n",
    "        for j in range(len(read_matrix[i])-kmer_size+1):\n",
    "            kmer_matrix.append(read_matrix[i][j:j+kmer_size])\n",
    "\n",
    "    return np.unique(kmer_matrix,axis=0)"
   ]
  }
 ],
 "metadata": {
  "kernelspec": {
   "display_name": "Python 3",
   "language": "python",
   "name": "python3"
  },
  "language_info": {
   "codemirror_mode": {
    "name": "ipython",
    "version": 3
   },
   "file_extension": ".py",
   "mimetype": "text/x-python",
   "name": "python",
   "nbconvert_exporter": "python",
   "pygments_lexer": "ipython3",
   "version": "3.6.5"
  }
 },
 "nbformat": 4,
 "nbformat_minor": 2
}
