{
 "cells": [
  {
   "cell_type": "code",
   "execution_count": 2,
   "metadata": {},
   "outputs": [],
   "source": [
    "## Import required packages\n",
    "import torch\n",
    "import random\n",
    "import numpy as np\n",
    "import pandas as pd\n",
    "import numpy as np\n",
    "import matplotlib.pyplot as plt\n",
    "from sklearn.preprocessing import OneHotEncoder\n",
    "from sklearn.preprocessing import LabelEncoder\n",
    "from sklearn.manifold import TSNE\n",
    "%matplotlib inline"
   ]
  },
  {
   "cell_type": "code",
   "execution_count": 3,
   "metadata": {},
   "outputs": [],
   "source": [
    "# Check local GPU is running, uncomment and run if using a local GPU\n",
    "#torch.cuda.current_device()\n",
    "#torch.cuda.device(0)\n",
    "#torch.cuda.device_count()\n",
    "#torch.cuda.get_device_name(0)"
   ]
  },
  {
   "cell_type": "code",
   "execution_count": 118,
   "metadata": {},
   "outputs": [],
   "source": [
    "## We'll build a function to generate simulated reads.\n",
    "## Could've gone for specifying probabilities per base,\n",
    "## but as it's a field test we're keeping it simple.\n",
    "\n",
    "def random_dna_sequence(length):\n",
    "    return np.array(list(''.join(random.choice('ACTG') for _ in range(length))))\n",
    "\n",
    "# Function for generating n x m R matrix,\n",
    "# where n is the number of reads (total_reads)\n",
    "# and m is each read's length (read_length).\n",
    "\n",
    "def create_read_matrix(total_reads,read_length):\n",
    "    read_matrix = []\n",
    "    for i in range(total_reads):\n",
    "        read_matrix.append(random_dna_sequence(read_length))\n",
    "    return np.vstack(read_matrix)\n",
    "\n",
    "#Build a function that simultaneously generates unique, desired length k-mers \n",
    "##from a previously generated read_matrix and times said k-mer occured.\n",
    "## Returns both objects ordered by occurence\n",
    "\n",
    "def create_kmer_matrix(read_matrix,kmer_size):\n",
    "    kmer_matrix = []\n",
    "    for i in range(read_matrix.shape[0]):\n",
    "        for j in range(len(read_matrix[i])-kmer_size+1):\n",
    "            kmer_matrix.append(read_matrix[i][j:j+kmer_size])\n",
    "    kmer_matrix, counts = np.unique(kmer_matrix,axis=0,return_counts=1)\n",
    "    #inner index to sort by count occurences\n",
    "    sort_index = np.argsort(-counts)\n",
    "    return kmer_matrix[sort_index], counts[sort_index]"
   ]
  },
  {
   "cell_type": "code",
   "execution_count": 140,
   "metadata": {},
   "outputs": [],
   "source": [
    "x,y = create_kmer_matrix(create_read_matrix(10,100),10)"
   ]
  },
  {
   "cell_type": "code",
   "execution_count": 143,
   "metadata": {},
   "outputs": [
    {
     "data": {
      "text/plain": [
       "array(['G', 'G', 'C', 'C', 'A', 'A', 'A', 'C', 'T', 'G'], dtype='<U1')"
      ]
     },
     "execution_count": 143,
     "metadata": {},
     "output_type": "execute_result"
    }
   ],
   "source": [
    "x[1]"
   ]
  },
  {
   "cell_type": "code",
   "execution_count": 148,
   "metadata": {},
   "outputs": [
    {
     "name": "stdout",
     "output_type": "stream",
     "text": [
      "['G' 'G' 'C' 'C' 'C' 'T' 'C' 'T' 'A' 'A']\n",
      "[2 2 1 1 1 3 1 3 0 0]\n",
      "[[0. 0. 1. 0.]\n",
      " [0. 0. 1. 0.]\n",
      " [0. 1. 0. 0.]\n",
      " [0. 1. 0. 0.]\n",
      " [0. 1. 0. 0.]\n",
      " [0. 0. 0. 1.]\n",
      " [0. 1. 0. 0.]\n",
      " [0. 0. 0. 1.]\n",
      " [1. 0. 0. 0.]\n",
      " [1. 0. 0. 0.]]\n"
     ]
    },
    {
     "name": "stderr",
     "output_type": "stream",
     "text": [
      "/home/semibah/miniconda3/lib/python3.6/site-packages/sklearn/preprocessing/_encoders.py:363: FutureWarning: The handling of integer data will change in version 0.22. Currently, the categories are determined based on the range [0, max(values)], while in the future they will be determined based on the unique values.\n",
      "If you want the future behaviour and silence this warning, you can specify \"categories='auto'\".\n",
      "In case you used a LabelEncoder before this OneHotEncoder to convert the categories to integers, then you can now use the OneHotEncoder directly.\n",
      "  warnings.warn(msg, FutureWarning)\n"
     ]
    }
   ],
   "source": [
    "## One hot encoding of sequences\n",
    "## define the bases we'll use an convert values to an array.\n",
    "sequence = x[3]\n",
    "values = sequence\n",
    "print(values)\n",
    "#encoding to integers\n",
    "base_encoder = LabelEncoder()\n",
    "base_encoded = base_encoder.fit_transform(values)\n",
    "print(base_encoded)\n",
    "# binary encode\n",
    "onehot_encoder = OneHotEncoder(sparse=False)\n",
    "base_encoded = base_encoded.reshape(len(base_encoded), 1)\n",
    "onehot_encoded = onehot_encoder.fit_transform(base_encoded)\n",
    "print(onehot_encoded)"
   ]
  },
  {
   "cell_type": "code",
   "execution_count": null,
   "metadata": {},
   "outputs": [],
   "source": []
  }
 ],
 "metadata": {
  "kernelspec": {
   "display_name": "Python 3",
   "language": "python",
   "name": "python3"
  },
  "language_info": {
   "codemirror_mode": {
    "name": "ipython",
    "version": 3
   },
   "file_extension": ".py",
   "mimetype": "text/x-python",
   "name": "python",
   "nbconvert_exporter": "python",
   "pygments_lexer": "ipython3",
   "version": "3.6.5"
  }
 },
 "nbformat": 4,
 "nbformat_minor": 2
}
